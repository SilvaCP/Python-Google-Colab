{
  "nbformat": 4,
  "nbformat_minor": 0,
  "metadata": {
    "colab": {
      "name": "Lógica de Programação.ipynb",
      "provenance": [],
      "authorship_tag": "ABX9TyPmPf14tv4FFpWxLal+/VQd",
      "include_colab_link": true
    },
    "kernelspec": {
      "name": "python3",
      "display_name": "Python 3"
    }
  },
  "cells": [
    {
      "cell_type": "markdown",
      "metadata": {
        "id": "view-in-github",
        "colab_type": "text"
      },
      "source": [
        "<a href=\"https://colab.research.google.com/github/SilvaCP/Python-Google-Colab/blob/main/L%C3%B3gica_de_Programa%C3%A7%C3%A3o.ipynb\" target=\"_parent\"><img src=\"https://colab.research.google.com/assets/colab-badge.svg\" alt=\"Open In Colab\"/></a>"
      ]
    },
    {
      "cell_type": "code",
      "metadata": {
        "id": "QRl80V_vD_gE"
      },
      "source": [
        ""
      ],
      "execution_count": null,
      "outputs": []
    },
    {
      "cell_type": "markdown",
      "metadata": {
        "id": "Js1pTTocEkDl"
      },
      "source": [
        "# Fundamentos de Lógica de Programação com Python\n",
        "## Tipo Inteiro"
      ]
    },
    {
      "cell_type": "code",
      "metadata": {
        "colab": {
          "base_uri": "https://localhost:8080/"
        },
        "id": "IbvTP930ssCH",
        "outputId": "bdeb53c1-d21b-44a5-cf5f-8b5dd5568769"
      },
      "source": [
        "type(1)"
      ],
      "execution_count": null,
      "outputs": [
        {
          "output_type": "execute_result",
          "data": {
            "text/plain": [
              "int"
            ]
          },
          "metadata": {
            "tags": []
          },
          "execution_count": 2
        }
      ]
    },
    {
      "cell_type": "code",
      "metadata": {
        "colab": {
          "base_uri": "https://localhost:8080/"
        },
        "id": "LaAfMTPDtfQ1",
        "outputId": "f171c3fd-1ab8-4f99-f80d-5023e2d2f507"
      },
      "source": [
        "1+2"
      ],
      "execution_count": null,
      "outputs": [
        {
          "output_type": "execute_result",
          "data": {
            "text/plain": [
              "3"
            ]
          },
          "metadata": {
            "tags": []
          },
          "execution_count": 3
        }
      ]
    },
    {
      "cell_type": "code",
      "metadata": {
        "colab": {
          "base_uri": "https://localhost:8080/"
        },
        "id": "4KS_X60TtzTf",
        "outputId": "01d181eb-7309-4b9b-eb20-97963cf0837f"
      },
      "source": [
        "5-3"
      ],
      "execution_count": null,
      "outputs": [
        {
          "output_type": "execute_result",
          "data": {
            "text/plain": [
              "2"
            ]
          },
          "metadata": {
            "tags": []
          },
          "execution_count": 4
        }
      ]
    },
    {
      "cell_type": "code",
      "metadata": {
        "colab": {
          "base_uri": "https://localhost:8080/"
        },
        "id": "PIqISjXat3a1",
        "outputId": "c4cd86fa-4256-4edc-f242-f76d399e2bbf"
      },
      "source": [
        "6 * 7"
      ],
      "execution_count": null,
      "outputs": [
        {
          "output_type": "execute_result",
          "data": {
            "text/plain": [
              "42"
            ]
          },
          "metadata": {
            "tags": []
          },
          "execution_count": 6
        }
      ]
    },
    {
      "cell_type": "code",
      "metadata": {
        "colab": {
          "base_uri": "https://localhost:8080/"
        },
        "id": "6bQMSjJouRQf",
        "outputId": "a24892ff-bdb9-4f48-8d9a-aa402673b607"
      },
      "source": [
        "43 % 6"
      ],
      "execution_count": null,
      "outputs": [
        {
          "output_type": "execute_result",
          "data": {
            "text/plain": [
              "1"
            ]
          },
          "metadata": {
            "tags": []
          },
          "execution_count": 7
        }
      ]
    },
    {
      "cell_type": "code",
      "metadata": {
        "colab": {
          "base_uri": "https://localhost:8080/"
        },
        "id": "qDr9iVghuXAK",
        "outputId": "4f0a4aff-35b1-4b3e-a906-9e04f30ded8d"
      },
      "source": [
        "43 / 6"
      ],
      "execution_count": null,
      "outputs": [
        {
          "output_type": "execute_result",
          "data": {
            "text/plain": [
              "7.166666666666667"
            ]
          },
          "metadata": {
            "tags": []
          },
          "execution_count": 8
        }
      ]
    },
    {
      "cell_type": "code",
      "metadata": {
        "colab": {
          "base_uri": "https://localhost:8080/"
        },
        "id": "96EHERirueqF",
        "outputId": "a5b2a63d-d137-4076-bc3c-be69087cab6a"
      },
      "source": [
        "43 // 6"
      ],
      "execution_count": null,
      "outputs": [
        {
          "output_type": "execute_result",
          "data": {
            "text/plain": [
              "7"
            ]
          },
          "metadata": {
            "tags": []
          },
          "execution_count": 9
        }
      ]
    },
    {
      "cell_type": "code",
      "metadata": {
        "colab": {
          "base_uri": "https://localhost:8080/"
        },
        "id": "U8b9GkNUuvTk",
        "outputId": "7a2582f4-03e0-4c26-965e-5d48cd933730"
      },
      "source": [
        "2 ** 3"
      ],
      "execution_count": null,
      "outputs": [
        {
          "output_type": "execute_result",
          "data": {
            "text/plain": [
              "8"
            ]
          },
          "metadata": {
            "tags": []
          },
          "execution_count": 10
        }
      ]
    },
    {
      "cell_type": "code",
      "metadata": {
        "colab": {
          "base_uri": "https://localhost:8080/"
        },
        "id": "uOoI-tq2u6Tf",
        "outputId": "92b2e9cd-eab2-417c-b1fa-277a8da8dfae"
      },
      "source": [
        "2 ** 63 -1"
      ],
      "execution_count": null,
      "outputs": [
        {
          "output_type": "execute_result",
          "data": {
            "text/plain": [
              "9223372036854775807"
            ]
          },
          "metadata": {
            "tags": []
          },
          "execution_count": 11
        }
      ]
    },
    {
      "cell_type": "code",
      "metadata": {
        "id": "upM1tiU7vS2l"
      },
      "source": [
        "9_223_372_036_854_775_807"
      ],
      "execution_count": null,
      "outputs": []
    },
    {
      "cell_type": "code",
      "metadata": {
        "colab": {
          "base_uri": "https://localhost:8080/"
        },
        "id": "fI93f3Cqvih1",
        "outputId": "177af91a-1906-459c-f101-193648e05b3d"
      },
      "source": [
        "2 ** 1000"
      ],
      "execution_count": null,
      "outputs": [
        {
          "output_type": "execute_result",
          "data": {
            "text/plain": [
              "10715086071862673209484250490600018105614048117055336074437503883703510511249361224931983788156958581275946729175531468251871452856923140435984577574698574803934567774824230985421074605062371141877954182153046474983581941267398767559165543946077062914571196477686542167660429831652624386837205668069376"
            ]
          },
          "metadata": {
            "tags": []
          },
          "execution_count": 12
        }
      ]
    },
    {
      "cell_type": "markdown",
      "metadata": {
        "id": "r-3GBJpvvvGT"
      },
      "source": [
        "## Ponto flutuante\n"
      ]
    },
    {
      "cell_type": "code",
      "metadata": {
        "colab": {
          "base_uri": "https://localhost:8080/"
        },
        "id": "R-0n9ohlwKQL",
        "outputId": "ec3bfc52-7cd6-4d7b-9623-e908bd420edf"
      },
      "source": [
        "type(7.166666666666667)"
      ],
      "execution_count": null,
      "outputs": [
        {
          "output_type": "execute_result",
          "data": {
            "text/plain": [
              "float"
            ]
          },
          "metadata": {
            "tags": []
          },
          "execution_count": 13
        }
      ]
    },
    {
      "cell_type": "code",
      "metadata": {
        "colab": {
          "base_uri": "https://localhost:8080/"
        },
        "id": "LLKtobKXw32r",
        "outputId": "52344146-0013-42a4-a1ca-b582366322bd"
      },
      "source": [
        "7.5 + 5, 5.5 -7, 7.2 *2, 2.1 ** 2, 7.3 / 2"
      ],
      "execution_count": null,
      "outputs": [
        {
          "output_type": "execute_result",
          "data": {
            "text/plain": [
              "(12.5, -1.5, 14.4, 4.41, 3.65)"
            ]
          },
          "metadata": {
            "tags": []
          },
          "execution_count": 14
        }
      ]
    },
    {
      "cell_type": "markdown",
      "metadata": {
        "id": "MAaV6bGgxbxc"
      },
      "source": [
        "## Variáveis"
      ]
    },
    {
      "cell_type": "code",
      "metadata": {
        "colab": {
          "base_uri": "https://localhost:8080/"
        },
        "id": "5VgqYaqKxlOC",
        "outputId": "0af09f08-f1e0-4403-b1af-ca7b0e93dd02"
      },
      "source": [
        "pi = 3.1415\n",
        "raio = 2\n",
        "pi * (raio ** 2)\n"
      ],
      "execution_count": null,
      "outputs": [
        {
          "output_type": "execute_result",
          "data": {
            "text/plain": [
              "12.566"
            ]
          },
          "metadata": {
            "tags": []
          },
          "execution_count": 15
        }
      ]
    },
    {
      "cell_type": "code",
      "metadata": {
        "colab": {
          "base_uri": "https://localhost:8080/"
        },
        "id": "HFBciFnqzvqv",
        "outputId": "77ae59f9-ff7e-4b0d-c1a2-61acd5fd60f1"
      },
      "source": [
        "raio = 1\n",
        "pi * (raio ** 2)\n"
      ],
      "execution_count": null,
      "outputs": [
        {
          "output_type": "execute_result",
          "data": {
            "text/plain": [
              "3.1415"
            ]
          },
          "metadata": {
            "tags": []
          },
          "execution_count": 16
        }
      ]
    },
    {
      "cell_type": "code",
      "metadata": {
        "colab": {
          "base_uri": "https://localhost:8080/",
          "height": 133
        },
        "id": "tse2q7Hq0Erh",
        "outputId": "7179d276-4ae7-49cc-8afc-28abdd339a7f"
      },
      "source": [
        "nao existe\n"
      ],
      "execution_count": null,
      "outputs": [
        {
          "output_type": "error",
          "ename": "SyntaxError",
          "evalue": "ignored",
          "traceback": [
            "\u001b[0;36m  File \u001b[0;32m\"<ipython-input-17-90328dec9b25>\"\u001b[0;36m, line \u001b[0;32m1\u001b[0m\n\u001b[0;31m    nao existe\u001b[0m\n\u001b[0m             ^\u001b[0m\n\u001b[0;31mSyntaxError\u001b[0m\u001b[0;31m:\u001b[0m invalid syntax\n"
          ]
        }
      ]
    },
    {
      "cell_type": "markdown",
      "metadata": {
        "id": "EUTHCj6g0Vmt"
      },
      "source": [
        "## Cadeia de caracteres String"
      ]
    },
    {
      "cell_type": "code",
      "metadata": {
        "colab": {
          "base_uri": "https://localhost:8080/"
        },
        "id": "6Ee_5PjQ0dhv",
        "outputId": "436b64af-e147-4aff-c2e1-c328c9d1ee0c"
      },
      "source": [
        "print('Olá Mundo!')\n"
      ],
      "execution_count": null,
      "outputs": [
        {
          "output_type": "stream",
          "text": [
            "Olá Mundo!\n"
          ],
          "name": "stdout"
        }
      ]
    },
    {
      "cell_type": "code",
      "metadata": {
        "colab": {
          "base_uri": "https://localhost:8080/"
        },
        "id": "5ZMkOm8H0ugn",
        "outputId": "e7e3487e-ae35-403c-a32f-f02a05750269"
      },
      "source": [
        "type('Renzo'),type(\"Renzo\"), type(\"\"\"Renzo\"\"\"), type('''Renzo''')\n"
      ],
      "execution_count": null,
      "outputs": [
        {
          "output_type": "execute_result",
          "data": {
            "text/plain": [
              "(str, str, str, str)"
            ]
          },
          "metadata": {
            "tags": []
          },
          "execution_count": 20
        }
      ]
    },
    {
      "cell_type": "code",
      "metadata": {
        "colab": {
          "base_uri": "https://localhost:8080/",
          "height": 35
        },
        "id": "NgKyUKpp1WOE",
        "outputId": "7c0ed8c9-5da3-4a47-c7de-465e8cdafce5"
      },
      "source": [
        "nome = 'Renzo'\n",
        "nome"
      ],
      "execution_count": null,
      "outputs": [
        {
          "output_type": "execute_result",
          "data": {
            "application/vnd.google.colaboratory.intrinsic+json": {
              "type": "string"
            },
            "text/plain": [
              "'Renzo'"
            ]
          },
          "metadata": {
            "tags": []
          },
          "execution_count": 21
        }
      ]
    },
    {
      "cell_type": "code",
      "metadata": {
        "colab": {
          "base_uri": "https://localhost:8080/",
          "height": 35
        },
        "id": "K4gz-Psw1oQo",
        "outputId": "5c9c25b1-a1ec-4ec9-f3ba-15fdb2c605dd"
      },
      "source": [
        "nome = \"Renzo's name\"\n",
        "nome"
      ],
      "execution_count": null,
      "outputs": [
        {
          "output_type": "execute_result",
          "data": {
            "application/vnd.google.colaboratory.intrinsic+json": {
              "type": "string"
            },
            "text/plain": [
              "\"Renzo's name\""
            ]
          },
          "metadata": {
            "tags": []
          },
          "execution_count": 25
        }
      ]
    },
    {
      "cell_type": "code",
      "metadata": {
        "colab": {
          "base_uri": "https://localhost:8080/",
          "height": 35
        },
        "id": "PH5j2EsK2HA0",
        "outputId": "f9daed43-8149-4b08-b264-47cb64a1b6a8"
      },
      "source": [
        "nome =\"\"\"Renso's \"name\" \"\"\"\n",
        "nome"
      ],
      "execution_count": null,
      "outputs": [
        {
          "output_type": "execute_result",
          "data": {
            "application/vnd.google.colaboratory.intrinsic+json": {
              "type": "string"
            },
            "text/plain": [
              "'Renso\\'s \"name\" '"
            ]
          },
          "metadata": {
            "tags": []
          },
          "execution_count": 26
        }
      ]
    },
    {
      "cell_type": "code",
      "metadata": {
        "colab": {
          "base_uri": "https://localhost:8080/"
        },
        "id": "IUNOykzX2x6H",
        "outputId": "e7d5c9e0-1902-4918-e273-437634abb725"
      },
      "source": [
        "nome = '''Renso \n",
        "Nutelli'''\n",
        "print(nome)"
      ],
      "execution_count": null,
      "outputs": [
        {
          "output_type": "stream",
          "text": [
            "Renso \n",
            "Nutelli\n"
          ],
          "name": "stdout"
        }
      ]
    },
    {
      "cell_type": "markdown",
      "metadata": {
        "id": "mEcN3t-Y3OpQ"
      },
      "source": [
        "## Tipos Booleanos"
      ]
    },
    {
      "cell_type": "code",
      "metadata": {
        "colab": {
          "base_uri": "https://localhost:8080/"
        },
        "id": "AJGUEH1i3UKB",
        "outputId": "3e4a0319-286e-42e4-cbe6-ea05afbcb899"
      },
      "source": [
        "True , False"
      ],
      "execution_count": 29,
      "outputs": [
        {
          "output_type": "execute_result",
          "data": {
            "text/plain": [
              "(True, False)"
            ]
          },
          "metadata": {
            "tags": []
          },
          "execution_count": 29
        }
      ]
    },
    {
      "cell_type": "code",
      "metadata": {
        "colab": {
          "base_uri": "https://localhost:8080/"
        },
        "id": "EGzzvdZ137hD",
        "outputId": "9ae2de80-cd97-44f7-d5b0-121b415b4fb4"
      },
      "source": [
        "not True, not False"
      ],
      "execution_count": 30,
      "outputs": [
        {
          "output_type": "execute_result",
          "data": {
            "text/plain": [
              "(False, True)"
            ]
          },
          "metadata": {
            "tags": []
          },
          "execution_count": 30
        }
      ]
    },
    {
      "cell_type": "code",
      "metadata": {
        "colab": {
          "base_uri": "https://localhost:8080/"
        },
        "id": "ks3mwU8G4Kb_",
        "outputId": "589e6964-3db3-4eef-a26f-d8f40bdbc05e"
      },
      "source": [
        "True and True, True and False, False and False, False and True"
      ],
      "execution_count": 35,
      "outputs": [
        {
          "output_type": "execute_result",
          "data": {
            "text/plain": [
              "(True, False, False, False)"
            ]
          },
          "metadata": {
            "tags": []
          },
          "execution_count": 35
        }
      ]
    },
    {
      "cell_type": "code",
      "metadata": {
        "colab": {
          "base_uri": "https://localhost:8080/"
        },
        "id": "yhIUmGD-40Bw",
        "outputId": "1422534e-80f3-4c50-b2de-3bfd8ca977a9"
      },
      "source": [
        "True or True, True or False, False or False, False or True"
      ],
      "execution_count": 36,
      "outputs": [
        {
          "output_type": "execute_result",
          "data": {
            "text/plain": [
              "(True, True, False, True)"
            ]
          },
          "metadata": {
            "tags": []
          },
          "execution_count": 36
        }
      ]
    },
    {
      "cell_type": "code",
      "metadata": {
        "colab": {
          "base_uri": "https://localhost:8080/"
        },
        "id": "eQWVaxLD4PH7",
        "outputId": "ea630dc6-f479-4415-95d3-522f151c6766"
      },
      "source": [
        "5 > 6, 5 >= 6, 5 == 4, 5 == 5, 5!=4, \"carlos\" == \"carlos\""
      ],
      "execution_count": 44,
      "outputs": [
        {
          "output_type": "execute_result",
          "data": {
            "text/plain": [
              "(False, False, False, True, True, True)"
            ]
          },
          "metadata": {
            "tags": []
          },
          "execution_count": 44
        }
      ]
    },
    {
      "cell_type": "code",
      "metadata": {
        "colab": {
          "base_uri": "https://localhost:8080/"
        },
        "id": "f3fyKSfi5_vK",
        "outputId": "4d62180f-7a2b-46ef-d238-6e4519073116"
      },
      "source": [
        "Carlos = 'carlos'\n",
        "Carlos == 'Carlos'"
      ],
      "execution_count": 45,
      "outputs": [
        {
          "output_type": "execute_result",
          "data": {
            "text/plain": [
              "False"
            ]
          },
          "metadata": {
            "tags": []
          },
          "execution_count": 45
        }
      ]
    },
    {
      "cell_type": "markdown",
      "metadata": {
        "id": "wh-w7mtX6OzX"
      },
      "source": [
        "## Desvios Lógicos"
      ]
    },
    {
      "cell_type": "code",
      "metadata": {
        "colab": {
          "base_uri": "https://localhost:8080/"
        },
        "id": "H6DjARZA6eW0",
        "outputId": "f21af377-43c5-4b40-8068-400cf47cf0d4"
      },
      "source": [
        "idade = 65\n",
        "if idade < 18:\n",
        "  print(f'menor de idade: {idade}')\n",
        "  print('Acabou o if')\n",
        "elif idade >= 65:\n",
        "  print (f'pessoa idosa: {idade}')\n",
        "else:\n",
        "  print(f'maior de idade: {idade}')"
      ],
      "execution_count": 53,
      "outputs": [
        {
          "output_type": "stream",
          "text": [
            "pessoa idosa: 65\n"
          ],
          "name": "stdout"
        }
      ]
    },
    {
      "cell_type": "markdown",
      "metadata": {
        "id": "XlnCw8_p-FbC"
      },
      "source": [
        "## Função reutilização de códigos."
      ]
    },
    {
      "cell_type": "code",
      "metadata": {
        "id": "VoJ8sWK3Dp4l"
      },
      "source": [
        "def classificar (idade, nome):\n",
        "  if idade < 18:\n",
        "    return f'{nome} é menor de idade: {idade}'\n",
        "  elif idade >= 65:\n",
        "    return f'{nome} é um idoso(a): {idade}'\n",
        "  else:\n",
        "    return f'{nome} é maior de idade: {idade}'\n"
      ],
      "execution_count": 55,
      "outputs": []
    },
    {
      "cell_type": "code",
      "metadata": {
        "colab": {
          "base_uri": "https://localhost:8080/"
        },
        "id": "agVkW8SlFwbU",
        "outputId": "5cd521e2-9ef9-4d8b-da9b-e674675ace50"
      },
      "source": [
        "classificar(38, \"Renzor\"), classificar(150, \"MATUSALEM\")"
      ],
      "execution_count": 57,
      "outputs": [
        {
          "output_type": "execute_result",
          "data": {
            "text/plain": [
              "('Renzor é maior de idade: 38', 'MATUSALEM é um idoso(a): 150')"
            ]
          },
          "metadata": {
            "tags": []
          },
          "execution_count": 57
        }
      ]
    },
    {
      "cell_type": "markdown",
      "metadata": {
        "id": "bzTW9-zLGq_g"
      },
      "source": [
        "## Sequências permite trabalhar com multiplos objetos de uma só vez. "
      ]
    },
    {
      "cell_type": "code",
      "metadata": {
        "colab": {
          "base_uri": "https://localhost:8080/"
        },
        "id": "LjZOq9WSHwLh",
        "outputId": "837f143a-0c63-43a5-e2c9-5c746dc09f46"
      },
      "source": [
        "lista = [1, 4.5, True,[]]\n",
        "type(lista), lista"
      ],
      "execution_count": 61,
      "outputs": [
        {
          "output_type": "execute_result",
          "data": {
            "text/plain": [
              "(list, [1, 4.5, True, []])"
            ]
          },
          "metadata": {
            "tags": []
          },
          "execution_count": 61
        }
      ]
    },
    {
      "cell_type": "markdown",
      "metadata": {
        "id": "uHl_5HBOEP6S"
      },
      "source": [
        ""
      ]
    },
    {
      "cell_type": "markdown",
      "metadata": {
        "id": "aNOkl8gcIxpz"
      },
      "source": [
        "### Acesso a elementos"
      ]
    },
    {
      "cell_type": "code",
      "metadata": {
        "colab": {
          "base_uri": "https://localhost:8080/"
        },
        "id": "cFj_BopgI3ko",
        "outputId": "ded7ec2d-53cd-4669-ef01-9d48a88fc48b"
      },
      "source": [
        "lista[0],lista[1], lista[3]"
      ],
      "execution_count": 67,
      "outputs": [
        {
          "output_type": "execute_result",
          "data": {
            "text/plain": [
              "(1, 4.5, [])"
            ]
          },
          "metadata": {
            "tags": []
          },
          "execution_count": 67
        }
      ]
    },
    {
      "cell_type": "code",
      "metadata": {
        "colab": {
          "base_uri": "https://localhost:8080/"
        },
        "id": "vcJWn8GGKCFI",
        "outputId": "f2b72a85-21fa-4adc-dd2a-68bba1a7cd9f"
      },
      "source": [
        "len(lista)"
      ],
      "execution_count": 68,
      "outputs": [
        {
          "output_type": "execute_result",
          "data": {
            "text/plain": [
              "4"
            ]
          },
          "metadata": {
            "tags": []
          },
          "execution_count": 68
        }
      ]
    },
    {
      "cell_type": "code",
      "metadata": {
        "colab": {
          "base_uri": "https://localhost:8080/"
        },
        "id": "NXaFLVG-KWm9",
        "outputId": "1f83bdcd-850b-4a32-bf98-22301b5cab9e"
      },
      "source": [
        "lista[len(lista)-1],lista[len(lista)-2]"
      ],
      "execution_count": 70,
      "outputs": [
        {
          "output_type": "execute_result",
          "data": {
            "text/plain": [
              "([], True)"
            ]
          },
          "metadata": {
            "tags": []
          },
          "execution_count": 70
        }
      ]
    },
    {
      "cell_type": "code",
      "metadata": {
        "colab": {
          "base_uri": "https://localhost:8080/"
        },
        "id": "mtGCy2zlLNUB",
        "outputId": "53e53c8b-c6b1-48aa-a955-867422c4134b"
      },
      "source": [
        "lista[-1],lista[-2]"
      ],
      "execution_count": 71,
      "outputs": [
        {
          "output_type": "execute_result",
          "data": {
            "text/plain": [
              "([], True)"
            ]
          },
          "metadata": {
            "tags": []
          },
          "execution_count": 71
        }
      ]
    },
    {
      "cell_type": "markdown",
      "metadata": {
        "id": "bYCqNlsmLav0"
      },
      "source": [
        "## Fatiamento das sequências"
      ]
    },
    {
      "cell_type": "code",
      "metadata": {
        "colab": {
          "base_uri": "https://localhost:8080/"
        },
        "id": "OwlI1dSeLh5Z",
        "outputId": "c50f74e0-3bd5-4dac-c722-14415300c7d8"
      },
      "source": [
        "lista"
      ],
      "execution_count": 72,
      "outputs": [
        {
          "output_type": "execute_result",
          "data": {
            "text/plain": [
              "[1, 4.5, True, []]"
            ]
          },
          "metadata": {
            "tags": []
          },
          "execution_count": 72
        }
      ]
    },
    {
      "cell_type": "code",
      "metadata": {
        "colab": {
          "base_uri": "https://localhost:8080/"
        },
        "id": "JQY2dXDYLwrd",
        "outputId": "a57885e7-1b6e-4960-e1db-e7c626326378"
      },
      "source": [
        "lista[0:3]"
      ],
      "execution_count": 73,
      "outputs": [
        {
          "output_type": "execute_result",
          "data": {
            "text/plain": [
              "[1, 4.5, True]"
            ]
          },
          "metadata": {
            "tags": []
          },
          "execution_count": 73
        }
      ]
    },
    {
      "cell_type": "code",
      "metadata": {
        "colab": {
          "base_uri": "https://localhost:8080/"
        },
        "id": "hRGdqwpjMAcC",
        "outputId": "dcbd10d5-2b46-44cd-bb79-8a39432084dd"
      },
      "source": [
        "lista[1:3], lista[0:3],lista[:3], lista[2:len(lista)]"
      ],
      "execution_count": 77,
      "outputs": [
        {
          "output_type": "execute_result",
          "data": {
            "text/plain": [
              "([4.5, True], [1, 4.5, True], [1, 4.5, True], [True, []])"
            ]
          },
          "metadata": {
            "tags": []
          },
          "execution_count": 77
        }
      ]
    },
    {
      "cell_type": "code",
      "metadata": {
        "colab": {
          "base_uri": "https://localhost:8080/"
        },
        "id": "UxbPeRVSNSWF",
        "outputId": "c7c2db1f-4cf1-4343-a441-d8f3fedcd2f3"
      },
      "source": [
        " lista[2:]"
      ],
      "execution_count": 78,
      "outputs": [
        {
          "output_type": "execute_result",
          "data": {
            "text/plain": [
              "[True, []]"
            ]
          },
          "metadata": {
            "tags": []
          },
          "execution_count": 78
        }
      ]
    },
    {
      "cell_type": "markdown",
      "metadata": {
        "id": "vu8WKfRKNi7l"
      },
      "source": [
        "## Cópia da lista original"
      ]
    },
    {
      "cell_type": "code",
      "metadata": {
        "colab": {
          "base_uri": "https://localhost:8080/"
        },
        "id": "YPV46ikhNo5p",
        "outputId": "2e84c401-de0d-4bd7-f050-a0112ef0045a"
      },
      "source": [
        "lista[:]"
      ],
      "execution_count": 79,
      "outputs": [
        {
          "output_type": "execute_result",
          "data": {
            "text/plain": [
              "[1, 4.5, True, []]"
            ]
          },
          "metadata": {
            "tags": []
          },
          "execution_count": 79
        }
      ]
    },
    {
      "cell_type": "code",
      "metadata": {
        "colab": {
          "base_uri": "https://localhost:8080/"
        },
        "id": "69cpd0r7OPJu",
        "outputId": "be731912-5ca0-4a44-a841-a37b1adccebd"
      },
      "source": [
        "numeros = list(range(1,11))\n",
        "numeros, numeros[1:7], numeros[1:7:2]"
      ],
      "execution_count": 82,
      "outputs": [
        {
          "output_type": "execute_result",
          "data": {
            "text/plain": [
              "([1, 2, 3, 4, 5, 6, 7, 8, 9, 10], [2, 3, 4, 5, 6, 7], [2, 4, 6])"
            ]
          },
          "metadata": {
            "tags": []
          },
          "execution_count": 82
        }
      ]
    },
    {
      "cell_type": "code",
      "metadata": {
        "colab": {
          "base_uri": "https://localhost:8080/"
        },
        "id": "40fR0lwVPl45",
        "outputId": "9b7bc7e9-a259-4e25-e79e-ba26e78f5437"
      },
      "source": [
        "list(range(1,32,2))"
      ],
      "execution_count": 83,
      "outputs": [
        {
          "output_type": "execute_result",
          "data": {
            "text/plain": [
              "[1, 3, 5, 7, 9, 11, 13, 15, 17, 19, 21, 23, 25, 27, 29, 31]"
            ]
          },
          "metadata": {
            "tags": []
          },
          "execution_count": 83
        }
      ]
    },
    {
      "cell_type": "code",
      "metadata": {
        "colab": {
          "base_uri": "https://localhost:8080/"
        },
        "id": "HBTW1ghRRINo",
        "outputId": "3d29c1a7-993d-4223-903c-868b8e91c48e"
      },
      "source": [
        "renzo = 'Carlos Pereira'\n",
        "renzo[0],renzo[:6]"
      ],
      "execution_count": 85,
      "outputs": [
        {
          "output_type": "execute_result",
          "data": {
            "text/plain": [
              "('C', 'Carlos')"
            ]
          },
          "metadata": {
            "tags": []
          },
          "execution_count": 85
        }
      ]
    },
    {
      "cell_type": "markdown",
      "metadata": {
        "id": "G2ZmrGP_Rgba"
      },
      "source": [
        "## Adição e remoção de uma lista"
      ]
    },
    {
      "cell_type": "code",
      "metadata": {
        "colab": {
          "base_uri": "https://localhost:8080/"
        },
        "id": "a4xNuztoRlqA",
        "outputId": "4fca9246-ac2f-41e6-8336-fb7b3dd59f69"
      },
      "source": [
        "numeros, dir(numeros)"
      ],
      "execution_count": 87,
      "outputs": [
        {
          "output_type": "execute_result",
          "data": {
            "text/plain": [
              "([1, 2, 3, 4, 5, 6, 7, 8, 9, 10],\n",
              " ['__add__',\n",
              "  '__class__',\n",
              "  '__contains__',\n",
              "  '__delattr__',\n",
              "  '__delitem__',\n",
              "  '__dir__',\n",
              "  '__doc__',\n",
              "  '__eq__',\n",
              "  '__format__',\n",
              "  '__ge__',\n",
              "  '__getattribute__',\n",
              "  '__getitem__',\n",
              "  '__gt__',\n",
              "  '__hash__',\n",
              "  '__iadd__',\n",
              "  '__imul__',\n",
              "  '__init__',\n",
              "  '__init_subclass__',\n",
              "  '__iter__',\n",
              "  '__le__',\n",
              "  '__len__',\n",
              "  '__lt__',\n",
              "  '__mul__',\n",
              "  '__ne__',\n",
              "  '__new__',\n",
              "  '__reduce__',\n",
              "  '__reduce_ex__',\n",
              "  '__repr__',\n",
              "  '__reversed__',\n",
              "  '__rmul__',\n",
              "  '__setattr__',\n",
              "  '__setitem__',\n",
              "  '__sizeof__',\n",
              "  '__str__',\n",
              "  '__subclasshook__',\n",
              "  'append',\n",
              "  'clear',\n",
              "  'copy',\n",
              "  'count',\n",
              "  'extend',\n",
              "  'index',\n",
              "  'insert',\n",
              "  'pop',\n",
              "  'remove',\n",
              "  'reverse',\n",
              "  'sort'])"
            ]
          },
          "metadata": {
            "tags": []
          },
          "execution_count": 87
        }
      ]
    },
    {
      "cell_type": "code",
      "metadata": {
        "colab": {
          "base_uri": "https://localhost:8080/"
        },
        "id": "8xHcXIhWSKFJ",
        "outputId": "7be60d42-e86a-4004-848d-d88a5cd7e07e"
      },
      "source": [
        "numeros.pop"
      ],
      "execution_count": 88,
      "outputs": [
        {
          "output_type": "execute_result",
          "data": {
            "text/plain": [
              "<function list.pop>"
            ]
          },
          "metadata": {
            "tags": []
          },
          "execution_count": 88
        }
      ]
    },
    {
      "cell_type": "code",
      "metadata": {
        "colab": {
          "base_uri": "https://localhost:8080/"
        },
        "id": "V5VNnBAuSqdE",
        "outputId": "4e1e48df-4461-4682-98bc-3b7c80bcded3"
      },
      "source": [
        "help(numeros.pop)"
      ],
      "execution_count": 89,
      "outputs": [
        {
          "output_type": "stream",
          "text": [
            "Help on built-in function pop:\n",
            "\n",
            "pop(index=-1, /) method of builtins.list instance\n",
            "    Remove and return item at index (default last).\n",
            "    \n",
            "    Raises IndexError if list is empty or index is out of range.\n",
            "\n"
          ],
          "name": "stdout"
        }
      ]
    },
    {
      "cell_type": "code",
      "metadata": {
        "colab": {
          "base_uri": "https://localhost:8080/"
        },
        "id": "iG9MRVrXS6fH",
        "outputId": "42e97c92-046a-40dc-8365-e8d919d90451"
      },
      "source": [
        "numeros"
      ],
      "execution_count": 90,
      "outputs": [
        {
          "output_type": "execute_result",
          "data": {
            "text/plain": [
              "[1, 2, 3, 4, 5, 6, 7, 8, 9, 10]"
            ]
          },
          "metadata": {
            "tags": []
          },
          "execution_count": 90
        }
      ]
    },
    {
      "cell_type": "code",
      "metadata": {
        "colab": {
          "base_uri": "https://localhost:8080/"
        },
        "id": "JCLZ6G-GS_f8",
        "outputId": "55246230-5400-4b37-d9c7-7afd30af6a60"
      },
      "source": [
        "numeros.pop()"
      ],
      "execution_count": 92,
      "outputs": [
        {
          "output_type": "execute_result",
          "data": {
            "text/plain": [
              "10"
            ]
          },
          "metadata": {
            "tags": []
          },
          "execution_count": 92
        }
      ]
    },
    {
      "cell_type": "code",
      "metadata": {
        "colab": {
          "base_uri": "https://localhost:8080/"
        },
        "id": "Q_FcfelUTJbd",
        "outputId": "0970ae79-e679-48dc-fa09-d0d4a12fd14e"
      },
      "source": [
        "numeros"
      ],
      "execution_count": 93,
      "outputs": [
        {
          "output_type": "execute_result",
          "data": {
            "text/plain": [
              "[1, 2, 3, 4, 5, 6, 7, 8, 9]"
            ]
          },
          "metadata": {
            "tags": []
          },
          "execution_count": 93
        }
      ]
    },
    {
      "cell_type": "code",
      "metadata": {
        "id": "B2_fyMUsTSm_"
      },
      "source": [
        "numeros.append(10)"
      ],
      "execution_count": 94,
      "outputs": []
    },
    {
      "cell_type": "code",
      "metadata": {
        "colab": {
          "base_uri": "https://localhost:8080/"
        },
        "id": "ZkOuXmKTTfW4",
        "outputId": "44c7bdce-a61b-49a8-855a-c7593cddfe0b"
      },
      "source": [
        "numeros"
      ],
      "execution_count": 95,
      "outputs": [
        {
          "output_type": "execute_result",
          "data": {
            "text/plain": [
              "[1, 2, 3, 4, 5, 6, 7, 8, 9, 10]"
            ]
          },
          "metadata": {
            "tags": []
          },
          "execution_count": 95
        }
      ]
    },
    {
      "cell_type": "code",
      "metadata": {
        "id": "LKKb8HwgTwTT"
      },
      "source": [
        "numeros.extend([11,12])"
      ],
      "execution_count": 96,
      "outputs": []
    },
    {
      "cell_type": "code",
      "metadata": {
        "colab": {
          "base_uri": "https://localhost:8080/"
        },
        "id": "vEJJbjk0T9ML",
        "outputId": "b320eefe-5107-41b4-c2aa-f0a80aca8818"
      },
      "source": [
        "numeros"
      ],
      "execution_count": 97,
      "outputs": [
        {
          "output_type": "execute_result",
          "data": {
            "text/plain": [
              "[1, 2, 3, 4, 5, 6, 7, 8, 9, 10, 11, 12]"
            ]
          },
          "metadata": {
            "tags": []
          },
          "execution_count": 97
        }
      ]
    },
    {
      "cell_type": "code",
      "metadata": {
        "colab": {
          "base_uri": "https://localhost:8080/"
        },
        "id": "XD-moDVMUGo3",
        "outputId": "21db01de-69f8-4e77-ce0b-e40af2ec8636"
      },
      "source": [
        "[1,3] + [2,4]"
      ],
      "execution_count": 98,
      "outputs": [
        {
          "output_type": "execute_result",
          "data": {
            "text/plain": [
              "[1, 3, 2, 4]"
            ]
          },
          "metadata": {
            "tags": []
          },
          "execution_count": 98
        }
      ]
    },
    {
      "cell_type": "code",
      "metadata": {
        "colab": {
          "base_uri": "https://localhost:8080/"
        },
        "id": "V3foHiWpUaWg",
        "outputId": "2198b5e5-4de5-4607-b195-332f35544e4f"
      },
      "source": [
        "[1,3]*3"
      ],
      "execution_count": 99,
      "outputs": [
        {
          "output_type": "execute_result",
          "data": {
            "text/plain": [
              "[1, 3, 1, 3, 1, 3]"
            ]
          },
          "metadata": {
            "tags": []
          },
          "execution_count": 99
        }
      ]
    },
    {
      "cell_type": "code",
      "metadata": {
        "colab": {
          "base_uri": "https://localhost:8080/",
          "height": 35
        },
        "id": "JkKh_O1NUu3b",
        "outputId": "6b979584-8bea-495f-f59a-0e2aa46366ce"
      },
      "source": [
        "'Carlos' + ' Pereira'"
      ],
      "execution_count": 101,
      "outputs": [
        {
          "output_type": "execute_result",
          "data": {
            "application/vnd.google.colaboratory.intrinsic+json": {
              "type": "string"
            },
            "text/plain": [
              "'Carlos Pereira'"
            ]
          },
          "metadata": {
            "tags": []
          },
          "execution_count": 101
        }
      ]
    },
    {
      "cell_type": "code",
      "metadata": {
        "colab": {
          "base_uri": "https://localhost:8080/"
        },
        "id": "Z4O4i9EVU_9R",
        "outputId": "8ccee922-303f-4868-f94f-b48c7b8645cb"
      },
      "source": [
        "'bla' * 3 ,'bla ' * 3\n"
      ],
      "execution_count": 103,
      "outputs": [
        {
          "output_type": "execute_result",
          "data": {
            "text/plain": [
              "('blablabla', 'bla bla bla ')"
            ]
          },
          "metadata": {
            "tags": []
          },
          "execution_count": 103
        }
      ]
    },
    {
      "cell_type": "markdown",
      "metadata": {
        "id": "6FCHplGuVWyE"
      },
      "source": [
        "## Laços de Repetição"
      ]
    },
    {
      "cell_type": "code",
      "metadata": {
        "colab": {
          "base_uri": "https://localhost:8080/"
        },
        "id": "IVlvCxNIViAZ",
        "outputId": "baff574b-e53f-4e9e-eff2-6a6a54fc491f"
      },
      "source": [
        "idade = [17,38,70,80]\n",
        "classificar(idade[0], 'Carlos'),classificar(idade[1], 'Carlos'),classificar(idade[2], 'Carlos')"
      ],
      "execution_count": 107,
      "outputs": [
        {
          "output_type": "execute_result",
          "data": {
            "text/plain": [
              "('Carlos é menor de idade: 17',\n",
              " 'Carlos é maior de idade: 38',\n",
              " 'Carlos é um idoso(a): 70')"
            ]
          },
          "metadata": {
            "tags": []
          },
          "execution_count": 107
        }
      ]
    },
    {
      "cell_type": "code",
      "metadata": {
        "colab": {
          "base_uri": "https://localhost:8080/"
        },
        "id": "Rtm_5VWhWhIP",
        "outputId": "1b1e8a37-430f-49e4-ed49-54dd4fbb3b64"
      },
      "source": [
        "for idade in idade:\n",
        "  print(classificar(idade,'pessoa'))"
      ],
      "execution_count": 108,
      "outputs": [
        {
          "output_type": "stream",
          "text": [
            "pessoa é menor de idade: 17\n",
            "pessoa é maior de idade: 38\n",
            "pessoa é um idoso(a): 70\n",
            "pessoa é um idoso(a): 80\n"
          ],
          "name": "stdout"
        }
      ]
    },
    {
      "cell_type": "markdown",
      "metadata": {
        "id": "kJ-wL8SNXWSM"
      },
      "source": [
        "## Dicionário, conecta uma chave a um valor"
      ]
    },
    {
      "cell_type": "code",
      "metadata": {
        "colab": {
          "base_uri": "https://localhost:8080/"
        },
        "id": "-SCQg18QXx3x",
        "outputId": "2a7cf7bf-876e-4118-d4af-c1f957c5edb3"
      },
      "source": [
        "línguas = {'pt': 'Português','en':'Inglês'}\n",
        "línguas['pt'],línguas['en']"
      ],
      "execution_count": 110,
      "outputs": [
        {
          "output_type": "execute_result",
          "data": {
            "text/plain": [
              "('Português', 'Inglês')"
            ]
          },
          "metadata": {
            "tags": []
          },
          "execution_count": 110
        }
      ]
    },
    {
      "cell_type": "code",
      "metadata": {
        "colab": {
          "base_uri": "https://localhost:8080/"
        },
        "id": "Wm-Zqz6tY63k",
        "outputId": "0ae1faad-4149-4c7d-f733-5e525076e028"
      },
      "source": [
        "línguas['es'] = 'Espanhol'\n",
        "línguas"
      ],
      "execution_count": 111,
      "outputs": [
        {
          "output_type": "execute_result",
          "data": {
            "text/plain": [
              "{'en': 'Inglês', 'es': 'Espanhol', 'pt': 'Português'}"
            ]
          },
          "metadata": {
            "tags": []
          },
          "execution_count": 111
        }
      ]
    },
    {
      "cell_type": "code",
      "metadata": {
        "colab": {
          "base_uri": "https://localhost:8080/"
        },
        "id": "CI-D54H5ZQEM",
        "outputId": "522e5afe-eaab-4f64-b0bf-f7608bdba115"
      },
      "source": [
        "for chave in línguas:\n",
        "  print(chave)"
      ],
      "execution_count": 112,
      "outputs": [
        {
          "output_type": "stream",
          "text": [
            "pt\n",
            "en\n",
            "es\n"
          ],
          "name": "stdout"
        }
      ]
    },
    {
      "cell_type": "code",
      "metadata": {
        "colab": {
          "base_uri": "https://localhost:8080/"
        },
        "id": "TdLt3EXsZke8",
        "outputId": "9f4e6d42-bd81-4888-89f9-db913320075a"
      },
      "source": [
        "for chave in línguas.keys():\n",
        "  print(chave)"
      ],
      "execution_count": 113,
      "outputs": [
        {
          "output_type": "stream",
          "text": [
            "pt\n",
            "en\n",
            "es\n"
          ],
          "name": "stdout"
        }
      ]
    },
    {
      "cell_type": "code",
      "metadata": {
        "colab": {
          "base_uri": "https://localhost:8080/"
        },
        "id": "QK8qWGPrZ4bd",
        "outputId": "071f749f-3548-40cf-fd98-693e8af82015"
      },
      "source": [
        "for valor in línguas.values():\n",
        "  print(valor)"
      ],
      "execution_count": 114,
      "outputs": [
        {
          "output_type": "stream",
          "text": [
            "Português\n",
            "Inglês\n",
            "Espanhol\n"
          ],
          "name": "stdout"
        }
      ]
    },
    {
      "cell_type": "code",
      "metadata": {
        "colab": {
          "base_uri": "https://localhost:8080/"
        },
        "id": "olUuovW-aRZR",
        "outputId": "7de1baa0-0970-4cea-e435-10a088680a23"
      },
      "source": [
        "for chave, valor in línguas.items():\n",
        "  print(chave, valor)"
      ],
      "execution_count": 115,
      "outputs": [
        {
          "output_type": "stream",
          "text": [
            "pt Português\n",
            "en Inglês\n",
            "es Espanhol\n"
          ],
          "name": "stdout"
        }
      ]
    }
  ]
}